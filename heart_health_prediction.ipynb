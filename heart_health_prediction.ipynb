{
  "nbformat": 4,
  "nbformat_minor": 0,
  "metadata": {
    "colab": {
      "provenance": [],
      "authorship_tag": "ABX9TyPUnR+86KsXt9zePBVKCQRI",
      "include_colab_link": true
    },
    "kernelspec": {
      "name": "python3",
      "display_name": "Python 3"
    },
    "language_info": {
      "name": "python"
    }
  },
  "cells": [
    {
      "cell_type": "markdown",
      "metadata": {
        "id": "view-in-github",
        "colab_type": "text"
      },
      "source": [
        "<a href=\"https://colab.research.google.com/github/sanhiitaa/heart-health-prediction-classifier/blob/main/heart_health_prediction.ipynb\" target=\"_parent\"><img src=\"https://colab.research.google.com/assets/colab-badge.svg\" alt=\"Open In Colab\"/></a>"
      ]
    },
    {
      "cell_type": "code",
      "execution_count": 1,
      "metadata": {
        "id": "Mk7nNRKyDPQ7"
      },
      "outputs": [],
      "source": [
        "# import libraries\n",
        "import pickle\n",
        "import pandas as pd"
      ]
    },
    {
      "cell_type": "code",
      "source": [
        "# load the pipeline\n",
        "pipe=pickle.load(open('/content/heart-health-prediction-model.pkl', 'rb'))"
      ],
      "metadata": {
        "id": "41iOyTf8DWLA"
      },
      "execution_count": 2,
      "outputs": []
    },
    {
      "cell_type": "code",
      "source": [
        "# test input - taken from the heart-health-prediction-pipline\n",
        "test_input = pd.DataFrame({'HighChol': [0],\n",
        " 'CholCheck': [1],\n",
        " 'BMI': [26],\n",
        " 'Smoker': [0],\n",
        " 'Stroke': [0],\n",
        " 'Diabetes': [0],\n",
        " 'PhysActivity': [1],\n",
        " 'Fruits': [0],\n",
        " 'Veggies': [0],\n",
        " 'HvyAlcoholConsump': [0],\n",
        " 'AnyHealthcare': [1],\n",
        " 'NoDocbcCost': [0],\n",
        " 'GenHlth': [1],\n",
        " 'MentHlth': [0],\n",
        " 'PhysHlth': [0],\n",
        " 'DiffWalk': [0],\n",
        " 'Sex': [1],\n",
        " 'Age': [6],\n",
        " 'Education': [5],\n",
        " 'Income': [8]})\n",
        "\n",
        "print(test_input)\n"
      ],
      "metadata": {
        "colab": {
          "base_uri": "https://localhost:8080/"
        },
        "id": "xiEuUHZvDpPc",
        "outputId": "0325a69f-49a1-4fde-e46f-da0ac5cd8b05"
      },
      "execution_count": 5,
      "outputs": [
        {
          "output_type": "stream",
          "name": "stdout",
          "text": [
            "   HighChol  CholCheck  BMI  Smoker  Stroke  Diabetes  PhysActivity  Fruits  \\\n",
            "0         0          1   26       0       0         0             1       0   \n",
            "\n",
            "   Veggies  HvyAlcoholConsump  AnyHealthcare  NoDocbcCost  GenHlth  MentHlth  \\\n",
            "0        0                  0              1            0        1         0   \n",
            "\n",
            "   PhysHlth  DiffWalk  Sex  Age  Education  Income  \n",
            "0         0         0    1    6          5       8  \n"
          ]
        }
      ]
    },
    {
      "cell_type": "code",
      "source": [
        "# making prediction using the pipeline\n",
        "pipe.predict(test_input)"
      ],
      "metadata": {
        "colab": {
          "base_uri": "https://localhost:8080/"
        },
        "id": "zlgGu9OOEpwe",
        "outputId": "8acb8138-1d5f-4afc-eeba-6185c51dd5ba"
      },
      "execution_count": 6,
      "outputs": [
        {
          "output_type": "execute_result",
          "data": {
            "text/plain": [
              "array([0])"
            ]
          },
          "metadata": {},
          "execution_count": 6
        }
      ]
    },
    {
      "cell_type": "markdown",
      "source": [
        "`0` corresponds to no heart problem."
      ],
      "metadata": {
        "id": "e4uwniAD0bR4"
      }
    }
  ]
}